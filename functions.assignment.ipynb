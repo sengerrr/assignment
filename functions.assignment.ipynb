{
 "cells": [
  {
   "cell_type": "markdown",
   "id": "795bdc3a-69b0-4025-ba7a-b23dacc28924",
   "metadata": {},
   "source": [
    "Q1. Which keyword is used to create a function? Create a function to return a list of odd numbers in the\n",
    "range of 1 to 25."
   ]
  },
  {
   "cell_type": "code",
   "execution_count": 3,
   "id": "795985d0-6521-41d6-87aa-613717e9c85c",
   "metadata": {},
   "outputs": [
    {
     "data": {
      "text/plain": [
       "[1, 3, 5, 7, 9, 11, 13, 15, 17, 19, 21, 23, 25]"
      ]
     },
     "execution_count": 3,
     "metadata": {},
     "output_type": "execute_result"
    }
   ],
   "source": [
    "# the keyword used to create a function is def\n",
    "\n",
    "def test():\n",
    "  c =[]\n",
    "  for i in range(1,26):\n",
    "    if i%2 != 0 or i%2 != 0 :\n",
    "      c.append(i)\n",
    "  return c    \n",
    " \n",
    "test()\n"
   ]
  },
  {
   "cell_type": "markdown",
   "id": "6d76ebe3-f461-471e-81e3-e3639bbb23a0",
   "metadata": {},
   "source": [
    "Q2. Why *args and **kwargs is used in some functions? Create a function each for *args and **kwargs to\n",
    "demonstrate their use."
   ]
  },
  {
   "cell_type": "code",
   "execution_count": 17,
   "id": "1198b9ba-87a5-41ac-a664-f0ffbe1809ea",
   "metadata": {},
   "outputs": [
    {
     "data": {
      "text/plain": [
       "{'Name': 'abhishek', 'age': 19, 'list': [1, 2, 3, 4]}"
      ]
     },
     "execution_count": 17,
     "metadata": {},
     "output_type": "execute_result"
    }
   ],
   "source": [
    "''' *args in python is used to take end no of keywords if we are giving 2 arguments then we can only\n",
    "     write 2 arguments but using *args we can write end no of arguments\n",
    "     This is useful when you don't know in advance how many arguments will be passed to the function.\n",
    "     it converts the arguments into tuples '''\n",
    "\n",
    "# for example \n",
    "\n",
    "'''def test(a,b):\n",
    "    return a,b\n",
    "\n",
    "\n",
    "test(1,2,3) '''# by this we are not able to take many arguments \n",
    "\n",
    "# now using *args\n",
    "\n",
    "def test(*args):\n",
    "    return args\n",
    "\n",
    "test(1,2,3) # now we can give as many arguments we wants\n",
    "\n",
    "\n",
    "# **kwargs\n",
    "''' it is used to give end no of key and values as arguments and it store all the arguments in dictionary '''\n",
    "\n",
    "def test2(**kwarg):\n",
    "    return kwarg\n",
    "\n",
    "test2( Name=\"abhishek\",age= 19,list=[1,2,3,4])\n",
    "\n",
    "\n",
    "\n",
    "\n"
   ]
  },
  {
   "cell_type": "markdown",
   "id": "8017bcca-c716-42e3-b931-d94e268639e1",
   "metadata": {},
   "source": [
    "Q3. What is an iterator in python? Name the method used to initialise the iterator object and the method\n",
    "used for iteration. Use these methods to print the first five elements of the given list [2, 4, 6, 8, 10, 12, 14, 16,\n",
    "18, 20]."
   ]
  },
  {
   "cell_type": "code",
   "execution_count": 7,
   "id": "4245045e-f973-4af6-b69c-d8efceb6b485",
   "metadata": {},
   "outputs": [
    {
     "data": {
      "text/plain": [
       "[2, 4, 6, 8, 10]"
      ]
     },
     "execution_count": 7,
     "metadata": {},
     "output_type": "execute_result"
    }
   ],
   "source": [
    "# an iterator is an object that allows you to traverse through a collection of data, such as a list, tuple, or dictionary\n",
    "\n",
    "a = [ 2, 4, 6, 8, 10, 12, 14, 16, 18, 20 ]\n",
    "\n",
    "list(filter(lambda x : x<11 , a ))"
   ]
  },
  {
   "cell_type": "markdown",
   "id": "c8d2a08b-eb00-4c72-90ea-9090368a0442",
   "metadata": {},
   "source": [
    "Q4. What is a generator function in python? Why yield keyword is used? Give an example of a generator\n",
    "function."
   ]
  },
  {
   "cell_type": "code",
   "execution_count": 18,
   "id": "2fcfcb31-7e97-4824-afdd-f1473cfd15cf",
   "metadata": {},
   "outputs": [
    {
     "name": "stdout",
     "output_type": "stream",
     "text": [
      "0\n",
      "1\n",
      "1\n",
      "2\n",
      "3\n",
      "5\n",
      "8\n",
      "13\n",
      "21\n",
      "34\n"
     ]
    }
   ],
   "source": [
    "'''It lets you get one piece of data at a time, instead of giving you everything at once\n",
    "you're at an ice cream shop, and you want to try different flavors. Instead of getting a huge tub of each flavor,\n",
    "which might be too much, you ask for a small sample cup. The person at the counter gives you a little taste of each flavor.\n",
    "You can enjoy each taste without having to get a lot of ice cream.\n",
    "In Python, a generator function is like that sample cup\n",
    "\n",
    "range () is also a generator function '''\n",
    "# for example\n",
    "# fabocinno series\n",
    "\n",
    "\n",
    "def test(n):\n",
    "    a,b = 0,1\n",
    "    for i in range(n):\n",
    "        yield a\n",
    "        a,b = b, a+b \n",
    "        \n",
    "for i in test(10):\n",
    "    print(i)\n",
    "        "
   ]
  },
  {
   "cell_type": "markdown",
   "id": "6e97ff41-ec1b-4841-8cf0-dbf780c48600",
   "metadata": {},
   "source": [
    "Q5. Create a generator function for prime numbers less than 1000. Use the next() method to print the\n",
    "first 20 prime numbers."
   ]
  },
  {
   "cell_type": "code",
   "execution_count": 26,
   "id": "1f0b6c77-44a1-4752-9311-0a9025bbd6b1",
   "metadata": {},
   "outputs": [
    {
     "name": "stdout",
     "output_type": "stream",
     "text": [
      "2\n",
      "3\n",
      "5\n",
      "7\n",
      "11\n",
      "13\n",
      "17\n",
      "19\n",
      "23\n",
      "29\n",
      "31\n",
      "37\n",
      "41\n",
      "43\n",
      "47\n",
      "53\n",
      "59\n",
      "61\n",
      "67\n",
      "71\n"
     ]
    }
   ],
   "source": [
    "def is_prime(n):\n",
    "    if n < 2:\n",
    "        return False\n",
    "    for i in range(2, int(n**0.5) + 1):\n",
    "        if n % i == 0:\n",
    "            return False\n",
    "    return True\n",
    "\n",
    "def prime_generator():\n",
    "    num = 2\n",
    "    while num < 1000:\n",
    "        if is_prime(num):\n",
    "            yield num\n",
    "        num += 1\n",
    "\n",
    "prime_gen = prime_generator()\n",
    "\n",
    "for _ in range(20):\n",
    "    print(next(prime_gen))\n"
   ]
  }
 ],
 "metadata": {
  "kernelspec": {
   "display_name": "Python 3 (ipykernel)",
   "language": "python",
   "name": "python3"
  },
  "language_info": {
   "codemirror_mode": {
    "name": "ipython",
    "version": 3
   },
   "file_extension": ".py",
   "mimetype": "text/x-python",
   "name": "python",
   "nbconvert_exporter": "python",
   "pygments_lexer": "ipython3",
   "version": "3.10.8"
  }
 },
 "nbformat": 4,
 "nbformat_minor": 5
}
