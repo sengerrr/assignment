{
 "cells": [
  {
   "cell_type": "markdown",
   "id": "e53d5d94-0760-4e35-ac32-cb700fab8500",
   "metadata": {},
   "source": [
    "Q1. Explain Class and Object with respect to Object-Oriented Programming. Give a suitable example."
   ]
  },
  {
   "cell_type": "code",
   "execution_count": 8,
   "id": "1f543c09-982c-462c-950e-709ec1f4e193",
   "metadata": {},
   "outputs": [
    {
     "name": "stdout",
     "output_type": "stream",
     "text": [
      "i am learning oops\n"
     ]
    }
   ],
   "source": [
    "# In Object-Oriented Programming (OOP), a class is a blueprint or template for creating objects. \n",
    "# It defines the properties (attributes) and behaviors (methods) that objects created from that class will have.\n",
    "\n",
    "# An object, on the other hand, is an instance of a class. It represents a specific entity or concept in your program.\n",
    "# Objects have state (attributes) and behavior (methods) based on the class they were created from.\n",
    "\n",
    "\n",
    "class assignment : \n",
    "    pass \n",
    "\n",
    "class assignment1:\n",
    "    \n",
    "    def assign(self):\n",
    "        print(\"i am learning oops\")\n",
    "        \n",
    "# now we will create a function called \"abhishek\"\n",
    "abhishek = assignment1()    \n",
    "abhishek.assign()\n",
    "        \n"
   ]
  },
  {
   "cell_type": "markdown",
   "id": "ad8a81a2-0e2b-4198-8e79-689a5e7c232b",
   "metadata": {},
   "source": [
    "Q2. Name the four pillars of OOPs."
   ]
  },
  {
   "cell_type": "code",
   "execution_count": 10,
   "id": "e28ed3fb-c45a-4fff-b73b-5a2a79b952ab",
   "metadata": {},
   "outputs": [],
   "source": [
    "\n",
    "# Inheritance \n",
    "# polimorpism\n",
    "# encapsulation\n",
    "# abstraction\n"
   ]
  },
  {
   "cell_type": "markdown",
   "id": "2a995359-dcb7-4311-9ebf-107ea9d1be9c",
   "metadata": {},
   "source": [
    "Q3. Explain why the __init__() function is used. Give a suitable example."
   ]
  },
  {
   "cell_type": "code",
   "execution_count": 20,
   "id": "74ec8efc-9264-4052-a4da-80aa233e8032",
   "metadata": {},
   "outputs": [
    {
     "data": {
      "text/plain": [
       "('abhishek', 19)"
      ]
     },
     "execution_count": 20,
     "metadata": {},
     "output_type": "execute_result"
    }
   ],
   "source": [
    "# The __init__() function is a special method in Python classes that is automatically called when a new object is created from that class.\n",
    "# It is also known as the constructor method. The primary purpose of __init__() is to initialize the attributes of the object with initial values.\n",
    "\n",
    "# for exammple \n",
    "\n",
    "class pw:\n",
    "    \n",
    "    def __init__(self,name,age):\n",
    "        self.name = name\n",
    "        self.age = age\n",
    "        \n",
    "    def pw_detail(self):\n",
    "        return self.name,self.age\n",
    "        \n",
    "a = pw(\"abhishek\",19)\n",
    "\n",
    "a.pw_detail()\n",
    "\n"
   ]
  },
  {
   "cell_type": "markdown",
   "id": "6d33282c-9d1a-492e-b56d-18f40ce9357d",
   "metadata": {},
   "source": [
    "Q4. Why self is used in OOPs?\n"
   ]
  },
  {
   "cell_type": "code",
   "execution_count": 21,
   "id": "d92c9284-bb43-4944-9e54-7b44cbca39bf",
   "metadata": {},
   "outputs": [],
   "source": [
    "# In Object-Oriented Programming (OOP), self is a convention used in method definitions to represent the instance of the class.\n",
    "# It is a reference to the current object on which a method is being invoked."
   ]
  },
  {
   "cell_type": "markdown",
   "id": "f1765224-dad9-4c9b-a125-6b5a68b66198",
   "metadata": {},
   "source": [
    "Q5. What is inheritance? Give an example for each type of inheritance."
   ]
  },
  {
   "cell_type": "code",
   "execution_count": 26,
   "id": "1dcf47c5-06fe-4770-9428-f80ccf35a1b6",
   "metadata": {},
   "outputs": [
    {
     "name": "stdout",
     "output_type": "stream",
     "text": [
      "my name is abhishek\n"
     ]
    }
   ],
   "source": [
    "# inheritance in oops is a method which allows inherit the attributes of one class(parent) to another class(child).\n",
    "\n",
    "# for example\n",
    "\n",
    "class parent:\n",
    "    \n",
    "    def write_my_name(self):\n",
    "        print(\"my name is abhishek\")\n",
    "        \n",
    "class child(parent):\n",
    "    pass\n",
    "\n",
    "a = child()\n",
    "# in child class we can use function of parent class through inheritance\n",
    "a.write_my_name()\n"
   ]
  }
 ],
 "metadata": {
  "kernelspec": {
   "display_name": "Python 3 (ipykernel)",
   "language": "python",
   "name": "python3"
  },
  "language_info": {
   "codemirror_mode": {
    "name": "ipython",
    "version": 3
   },
   "file_extension": ".py",
   "mimetype": "text/x-python",
   "name": "python",
   "nbconvert_exporter": "python",
   "pygments_lexer": "ipython3",
   "version": "3.10.8"
  }
 },
 "nbformat": 4,
 "nbformat_minor": 5
}
