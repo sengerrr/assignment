{
 "cells": [
  {
   "cell_type": "markdown",
   "id": "af79f51c-8924-4355-9b40-c12db3c6d73f",
   "metadata": {},
   "source": [
    "Q1, Create a vehicle class with an init method having instance variables as name_of_vehicle, max_speed\n",
    "and average_of_vehicle."
   ]
  },
  {
   "cell_type": "code",
   "execution_count": 3,
   "id": "b3770aca-6245-4f78-a0da-02cc9591309d",
   "metadata": {},
   "outputs": [
    {
     "data": {
      "text/plain": [
       "25"
      ]
     },
     "execution_count": 3,
     "metadata": {},
     "output_type": "execute_result"
    }
   ],
   "source": [
    "class vehicle :\n",
    "    \n",
    "    def __init__(self , name_of_vehicle,max_speed,average_of_vehicle):\n",
    "        self.name_of_vehicle = name_of_vehicle\n",
    "        self.max_speed = max_speed\n",
    "        self.average_of_vehicle = average_of_vehicle\n",
    "        \n",
    "pw_vehicle =  vehicle(\"car\",100,25)        \n",
    "\n",
    "pw_vehicle.average_of_vehicle \n"
   ]
  },
  {
   "cell_type": "markdown",
   "id": "a56917ee-49d2-410b-9466-091c59aa87ae",
   "metadata": {},
   "source": [
    "Q2. Create a child class car from the vehicle class created in Que 1, which will inherit the vehicle class.\n",
    "Create a method named seating_capacity which takes capacity as an argument and returns the name of\n",
    "the vehicle and its seating capacity."
   ]
  },
  {
   "cell_type": "code",
   "execution_count": 48,
   "id": "f0964fcc-5b4c-4567-995c-802c78ce3565",
   "metadata": {},
   "outputs": [],
   "source": [
    "class vehicle :\n",
    "    \n",
    "    def __init__(self , name_of_vehicle,max_speed,average_of_vehicle):\n",
    "        self.name_of_vehicle = name_of_vehicle\n",
    "        self.max_speed = max_speed\n",
    "        \n",
    "        self.average_of_vehicle = average_of_vehicle\n",
    "        \n",
    "class car(vehicle):\n",
    "    \n",
    "    def __init__(self,seating_capacity):\n",
    "        self.seating_capacity = seating_capacity\n",
    "        \n",
    "        \n",
    "        \n",
    "    "
   ]
  },
  {
   "cell_type": "markdown",
   "id": "24b3085f-bc79-4b23-ae3d-1a9145c44527",
   "metadata": {},
   "source": [
    "Q3. What is multiple inheritance? Write a python code to demonstrate multiple inheritance."
   ]
  },
  {
   "cell_type": "code",
   "execution_count": 54,
   "id": "81267305-3e7c-4962-ad09-44539b9b4130",
   "metadata": {},
   "outputs": [
    {
     "name": "stdout",
     "output_type": "stream",
     "text": [
      "abhi\n"
     ]
    }
   ],
   "source": [
    "# when a child class able to inherit multiple classes through inheritance method.\n",
    "\n",
    "# for example \n",
    "\n",
    "class parent1:\n",
    "    \n",
    "    def name1(self):\n",
    "        print(\"abhi\")\n",
    "       \n",
    "class parent2:       \n",
    "                \n",
    "    def name2(self):\n",
    "        print(\"rahul\")\n",
    "        \n",
    "class child(parent1,parent2):\n",
    "    pass\n",
    "\n",
    "\n",
    "a = child()\n",
    "a.name1()\n",
    "        "
   ]
  },
  {
   "cell_type": "markdown",
   "id": "2fbc4929-2132-44ed-b40e-77efdac3042e",
   "metadata": {},
   "source": [
    "Q4. What are getter and setter in python? Create a class and create a getter and a setter method in this\n",
    "class."
   ]
  },
  {
   "cell_type": "code",
   "execution_count": 15,
   "id": "ba5b09aa-ca14-47fa-8ef2-267617ee2f62",
   "metadata": {},
   "outputs": [
    {
     "data": {
      "text/plain": [
       "120"
      ]
     },
     "execution_count": 15,
     "metadata": {},
     "output_type": "execute_result"
    }
   ],
   "source": [
    "# Getter: A getter is a method that allows you to retrieve the value of a private attribute.\n",
    "# It provides controlled access to the attribute.\n",
    "\n",
    "# Setter: A setter is a method that allows you to set or modify the value of a private attribute. \n",
    "# It provides controlled modification of the attribute.\n",
    "\n",
    "\n",
    "# for example\n",
    "\n",
    "class tomato:\n",
    "    \n",
    "    def __init__(self,price_tomato):\n",
    "        self.__price_tomato = price_tomato\n",
    "        \n",
    "    @property \n",
    "    def price_access(self):\n",
    "        return self.__price_tomato\n",
    "    \n",
    "    @price_access.setter\n",
    "    def set_price(self,price):\n",
    "        self.__price_tomato = price\n",
    "        \n",
    "        \n",
    "a = tomato(100)\n",
    "a.set_price = 120\n",
    "a.price_access\n",
    "\n"
   ]
  },
  {
   "cell_type": "markdown",
   "id": "2a653e4d-d92c-4459-984b-fae29eb5ce7b",
   "metadata": {},
   "source": [
    "Q5.What is method overriding in python? Write a python code to demonstrate method overriding."
   ]
  },
  {
   "cell_type": "code",
   "execution_count": 17,
   "id": "95082eaa-bf81-420b-928a-1473d1058cbc",
   "metadata": {},
   "outputs": [],
   "source": [
    "Method overriding in Python occurs when a subclass defines a method that is already defined in its parent class.\n",
    "The method in the subclass \"overrides\" the method in the parent class, meaning that when you call the method on an instance of the subclass,\n",
    "the subclass's method will be executed instead of the parent class's method.\n",
    "\n",
    "\n",
    "# for example \n",
    "\n",
    "class parent:\n",
    "    \n",
    "    def parent_1(self):\n",
    "        print(\"lalu sahab\")\n",
    "\n",
    "class child(parent):\n",
    "    \n",
    "    def parent_1(self):\n",
    "        print(\"child class\")\n",
    "        \n",
    "a = child()\n",
    "a.parent_1()\n",
    "\n",
    "        "
   ]
  }
 ],
 "metadata": {
  "kernelspec": {
   "display_name": "Python 3 (ipykernel)",
   "language": "python",
   "name": "python3"
  },
  "language_info": {
   "codemirror_mode": {
    "name": "ipython",
    "version": 3
   },
   "file_extension": ".py",
   "mimetype": "text/x-python",
   "name": "python",
   "nbconvert_exporter": "python",
   "pygments_lexer": "ipython3",
   "version": "3.10.8"
  }
 },
 "nbformat": 4,
 "nbformat_minor": 5
}
