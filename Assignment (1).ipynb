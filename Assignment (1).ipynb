{
 "cells": [
  {
   "cell_type": "code",
   "execution_count": 1,
   "id": "0daabd52-f39e-44dc-987f-b535229ac669",
   "metadata": {},
   "outputs": [
    {
     "name": "stdout",
     "output_type": "stream",
     "text": [
      "('abhishek', [], 3.2, ())\n"
     ]
    }
   ],
   "source": [
    "# Q1. Create one variable containing following type of data:\n",
    "# (i) string\n",
    "# (ii) list\n",
    "# (iii) float\n",
    "# (iv) tuple\n",
    "\n",
    "# ans.\n",
    "a = \"abhishek\",[],3.2,()\n",
    "print(a)"
   ]
  },
  {
   "cell_type": "code",
   "execution_count": null,
   "id": "004944e3-7834-444e-80c3-261263ed829c",
   "metadata": {},
   "outputs": [],
   "source": [
    "# Q2. Given are some following variables containing data:\n",
    "# (i) var1 = ‘ ‘\n",
    "# (ii) var2 = ‘[ DS , ML , Python]’\n",
    "# (iii) var3 = [ ‘DS’ , ’ML’ , ‘Python’ ]\n",
    "# (iv) var4 = 1.\n",
    "\n",
    "# What will be the data type of the above given variable.\n",
    "\n",
    "# Ans.\n",
    "var1 = string\n",
    "var2 = string\n",
    "var3 = list\n",
    "var4 = float\n"
   ]
  },
  {
   "cell_type": "code",
   "execution_count": 2,
   "id": "094314bd-9d99-447a-b4a6-2d24811fb078",
   "metadata": {},
   "outputs": [
    {
     "name": "stdout",
     "output_type": "stream",
     "text": [
      "4.0\n",
      "0\n",
      "4\n",
      "64\n"
     ]
    }
   ],
   "source": [
    "# Q3. Explain the use of the following operators using an example:\n",
    "# (i) /\n",
    "# (ii) %\n",
    "# (iii) //\n",
    "# (iv) **\n",
    "\n",
    "# Ans.\n",
    "a = 8\n",
    "b = 2\n",
    "print(a/b)  #' / ' operator is use to division in python \n",
    "\n",
    "print(a%b)  # ' % ' operator is used to find reminder in python \n",
    "\n",
    "print(a//b)  # ' // ' operator is used to find Floor Division in python \n",
    "\n",
    "print(a**b)  # ' ** ' operator is used to find power means a=8 and b=2 that means 8power2 = 8x8=64\n",
    "\n",
    "\n"
   ]
  },
  {
   "cell_type": "code",
   "execution_count": 5,
   "id": "01dfa863-fdb8-4b4b-b7ca-99b55f5e6ced",
   "metadata": {},
   "outputs": [
    {
     "name": "stdout",
     "output_type": "stream",
     "text": [
      "<class 'str'> abhi\n",
      "<class 'int'> 23\n",
      "<class 'bool'> True\n"
     ]
    }
   ],
   "source": [
    "# Q4. Create a list of length 10 of your choice containing multiple types of data. Using for loop print the\n",
    "# element and its data type.\n",
    "\n",
    "# Ans.\n",
    "a = [\"abhi\",23,True]\n",
    "for i in a:\n",
    "    print(type(i),i)\n"
   ]
  },
  {
   "cell_type": "code",
   "execution_count": 6,
   "id": "8fe49c2f-a50f-410f-80e7-f9966d4ed283",
   "metadata": {},
   "outputs": [
    {
     "name": "stdout",
     "output_type": "stream",
     "text": [
      "a is purely divisiblle by b\n"
     ]
    }
   ],
   "source": [
    "# Q5. Using a while loop, verify if the number A is purely divisible by number B and if so then how many\n",
    "# times it can be divisible.\n",
    "\n",
    "# Ans.\n",
    "a = 8\n",
    "b = 2 \n",
    "c = 0\n",
    "while b/a == c:\n",
    "   print(c)\n",
    "if  a%b == 0:\n",
    "     print(\"a is purely divisiblle by b\")\n"
   ]
  },
  {
   "cell_type": "code",
   "execution_count": 7,
   "id": "8d4b5664-2642-409f-a13e-c3ee61987a2b",
   "metadata": {},
   "outputs": [
    {
     "name": "stdout",
     "output_type": "stream",
     "text": [
      "1\n",
      "not divisible\n",
      "2\n",
      "not divisible\n",
      "3\n",
      "divisibe\n",
      "4\n",
      "not divisible\n",
      "5\n",
      "not divisible\n",
      "6\n",
      "divisibe\n",
      "7\n",
      "not divisible\n",
      "8\n",
      "not divisible\n",
      "9\n",
      "divisibe\n",
      "10\n",
      "not divisible\n",
      "11\n",
      "not divisible\n",
      "12\n",
      "divisibe\n",
      "13\n",
      "not divisible\n",
      "14\n",
      "not divisible\n",
      "15\n",
      "divisibe\n",
      "16\n",
      "not divisible\n",
      "17\n",
      "not divisible\n",
      "18\n",
      "divisibe\n",
      "19\n",
      "not divisible\n",
      "20\n",
      "not divisible\n",
      "21\n",
      "divisibe\n",
      "22\n",
      "not divisible\n",
      "23\n",
      "not divisible\n",
      "24\n",
      "divisibe\n",
      "25\n",
      "not divisible\n"
     ]
    }
   ],
   "source": [
    "# Q6. Create a list containing 25 int type data. Using for loop and if-else condition print if the element is\n",
    "# divisible by 3 or not.\n",
    "\n",
    "# Ans.\n",
    "\n",
    "a = [1,2,3,4,5,6,7,8,9,10,11,12,13,14,15,16,17,18,19,20,21,22,23,24,25]\n",
    "for i in a:\n",
    "  print(i)\n",
    "  \n",
    "  if i%3  ==0 :\n",
    "    print(\"divisibe\")\n",
    "  else:\n",
    "    print(\"not divisible\")\n",
    "    \n",
    "  "
   ]
  },
  {
   "cell_type": "code",
   "execution_count": 1,
   "id": "d2388527-b7f7-42a9-a028-d5354b377e83",
   "metadata": {},
   "outputs": [
    {
     "name": "stdout",
     "output_type": "stream",
     "text": [
      "[9, 2, 3, 4]\n"
     ]
    },
    {
     "ename": "TypeError",
     "evalue": "'tuple' object does not support item assignment",
     "output_type": "error",
     "traceback": [
      "\u001b[0;31m---------------------------------------------------------------------------\u001b[0m",
      "\u001b[0;31mTypeError\u001b[0m                                 Traceback (most recent call last)",
      "Cell \u001b[0;32mIn[1], line 13\u001b[0m\n\u001b[1;32m     11\u001b[0m \u001b[38;5;66;03m# immutable \u001b[39;00m\n\u001b[1;32m     12\u001b[0m a \u001b[38;5;241m=\u001b[39m (\u001b[38;5;241m1\u001b[39m,\u001b[38;5;241m2\u001b[39m,\u001b[38;5;241m3\u001b[39m,\u001b[38;5;241m4\u001b[39m,\u001b[38;5;241m5\u001b[39m)\n\u001b[0;32m---> 13\u001b[0m \u001b[43ma\u001b[49m\u001b[43m[\u001b[49m\u001b[38;5;241;43m1\u001b[39;49m\u001b[43m]\u001b[49m \u001b[38;5;241m=\u001b[39m \u001b[38;5;241m2\u001b[39m\n\u001b[1;32m     14\u001b[0m \u001b[38;5;28mprint\u001b[39m(a)\n",
      "\u001b[0;31mTypeError\u001b[0m: 'tuple' object does not support item assignment"
     ]
    }
   ],
   "source": [
    "#  Q7. What do you understand about mutable and immutable data types? Give examples for both showing\n",
    "#  this property.\n",
    "\n",
    "# Ans.\n",
    "\n",
    "# mutable \n",
    "a = [1,2,3,4]\n",
    "a[0] = 9\n",
    "print(a)\n",
    "\n",
    "# immutable \n",
    "a = (1,2,3,4,5)\n",
    "a[1] = 2\n",
    "print(a)\n",
    "\n",
    "\n",
    "\n",
    "\n"
   ]
  }
 ],
 "metadata": {
  "kernelspec": {
   "display_name": "Python 3 (ipykernel)",
   "language": "python",
   "name": "python3"
  },
  "language_info": {
   "codemirror_mode": {
    "name": "ipython",
    "version": 3
   },
   "file_extension": ".py",
   "mimetype": "text/x-python",
   "name": "python",
   "nbconvert_exporter": "python",
   "pygments_lexer": "ipython3",
   "version": "3.10.8"
  }
 },
 "nbformat": 4,
 "nbformat_minor": 5
}
