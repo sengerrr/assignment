{
 "cells": [
  {
   "cell_type": "markdown",
   "id": "7a6e1860-cd1b-4269-8059-7a324f0a75e3",
   "metadata": {},
   "source": [
    "Q1. How do you comment code in Python? What are the different types of comments?"
   ]
  },
  {
   "cell_type": "code",
   "execution_count": null,
   "id": "94ad21ef-6c3f-477b-828f-cb612906ae81",
   "metadata": {},
   "outputs": [],
   "source": [
    "# ANS1\n",
    "There are mainly two types of comments \n",
    "\n",
    "first is single line comment ( using # we can comment a line )\n",
    "\n",
    "for example - \n",
    "\n",
    "# a = \"abhishek is a good boy\"\n",
    "\n",
    "second is multi line comments ( using ''' we can comment mutiple lines )\n",
    "\n",
    "for example - \n",
    "\n",
    "'''  a = (\"my name is abhishek i am 19 year old and i am from city of lakes udaipur\")\n",
    "print(a)\n",
    "b = (\"my name is mona i am 20 year old and i am from jammu \")\n",
    "print(b) '''\n",
    "\n",
    "\n",
    "\n"
   ]
  },
  {
   "cell_type": "markdown",
   "id": "59249baf-a36d-42ba-878c-01b48869b111",
   "metadata": {},
   "source": [
    "Q2. What are variables in Python? How do you declare and assign values to variables?"
   ]
  },
  {
   "cell_type": "code",
   "execution_count": 3,
   "id": "99a63391-f387-4bc7-917c-f0c51354cb82",
   "metadata": {},
   "outputs": [
    {
     "name": "stdout",
     "output_type": "stream",
     "text": [
      "choclates\n",
      "45\n"
     ]
    }
   ],
   "source": [
    "# ANS2\n",
    "\n",
    "# variable are like a container which stores a value . for example A is a box where we store choclates\n",
    "# so A is a variable \n",
    "# Now how to assign values to variable by using = sign \n",
    "\n",
    "# example -\n",
    "\n",
    "A = \"choclates\"\n",
    "print(A)\n",
    "\n",
    "# example2 -\n",
    "\n",
    "B = 45\n",
    "print(B)\n",
    "\n",
    "\n"
   ]
  },
  {
   "cell_type": "markdown",
   "id": "30abfaf4-9c1a-4337-8da9-83ff47d4e1c1",
   "metadata": {},
   "source": [
    "Q3. How do you convert one data type to another in Python?"
   ]
  },
  {
   "cell_type": "code",
   "execution_count": 6,
   "id": "a2261694-20d7-449a-9282-1b1f68bf16ea",
   "metadata": {},
   "outputs": [
    {
     "name": "stdout",
     "output_type": "stream",
     "text": [
      "<class 'str'>\n",
      "<class 'int'>\n"
     ]
    }
   ],
   "source": [
    "# Ans3\n",
    "\n",
    "# to convert one data type into another we use name of the datatype and ()\n",
    "\n",
    "# for example\n",
    "\n",
    "a = \"45\"  # it is an string datatype\n",
    "print(type(a)) \n",
    "a = int(a)   # now to convert a into integer we will use int()\n",
    "print(type(a))\n",
    "\n"
   ]
  },
  {
   "cell_type": "markdown",
   "id": "1f45024b-5b84-481e-9115-b71098950522",
   "metadata": {},
   "source": [
    "Q4. How do you write and execute a Python script from the command line?"
   ]
  },
  {
   "cell_type": "code",
   "execution_count": null,
   "id": "9287e191-7b9d-4379-91c6-5d9f470926ca",
   "metadata": {},
   "outputs": [],
   "source": [
    "Use a text editor or an integrated development environment (IDE) to write your Python script. \n",
    "Save it with a .py extension, which is the standard extension for Python script files.\n",
    "For example, you can create a file named myscript.py.\n",
    "\n",
    "cmd py \n"
   ]
  },
  {
   "cell_type": "markdown",
   "id": "312178bf-430e-49e5-9c31-a7f4b576fde3",
   "metadata": {},
   "source": [
    "Q5. Given a list my_list = [1, 2, 3, 4, 5], write the code to slice the list and obtain the sub-list [2, 3]."
   ]
  },
  {
   "cell_type": "code",
   "execution_count": 2,
   "id": "eb4baa19-05ec-4b26-a38b-0c3e93d53594",
   "metadata": {},
   "outputs": [
    {
     "name": "stdout",
     "output_type": "stream",
     "text": [
      "[2, 3]\n"
     ]
    }
   ],
   "source": [
    "# ANS5\n",
    "\n",
    "my_list = [1, 2, 3, 4, 5]\n",
    "print(my_list[1:3])"
   ]
  },
  {
   "cell_type": "markdown",
   "id": "e4aed767-70e2-4785-b61a-9cee2be4011f",
   "metadata": {},
   "source": [
    "Q6. What is a complex number in mathematics, and how is it represented in Python?"
   ]
  },
  {
   "cell_type": "code",
   "execution_count": 9,
   "id": "98107a00-9431-408f-b184-d1f4e9ae9810",
   "metadata": {},
   "outputs": [
    {
     "name": "stdout",
     "output_type": "stream",
     "text": [
      "<class 'complex'>\n"
     ]
    }
   ],
   "source": [
    "# ANS6\n",
    "'''A complex number is like a special kind of number in mathematics. \n",
    "It's made up of two parts: a real part and an imaginary part. \n",
    "The real part is just a regular number, like 3 or -5, and the imaginary part is a number with the letter \"j\" in it, like 2j or -7j.'''\n",
    "\n",
    "# example of complex number in python\n",
    "\n",
    "a = a+6j\n",
    "print(type(a))\n",
    "\n"
   ]
  },
  {
   "cell_type": "markdown",
   "id": "fcd49206-9889-460a-a015-a9b1edcbc61c",
   "metadata": {},
   "source": [
    "Q7. What is the correct way to declare a variable named age and assign the value 25 to it?"
   ]
  },
  {
   "cell_type": "code",
   "execution_count": 11,
   "id": "fc1e642a-5052-4fbf-82d8-0f44153ea411",
   "metadata": {},
   "outputs": [
    {
     "name": "stdout",
     "output_type": "stream",
     "text": [
      "25\n"
     ]
    }
   ],
   "source": [
    "# ANS7\n",
    "age = 25\n",
    "print(age)"
   ]
  },
  {
   "cell_type": "markdown",
   "id": "f9386bbb-c017-4871-862f-badae6ba779d",
   "metadata": {},
   "source": [
    "Q8. Declare a variable named price and assign the value 9.99 to it. What data type does this variable\n",
    "belong to?"
   ]
  },
  {
   "cell_type": "code",
   "execution_count": 16,
   "id": "c567db83-4346-4400-9d06-bd9dd4996ac4",
   "metadata": {},
   "outputs": [
    {
     "name": "stdout",
     "output_type": "stream",
     "text": [
      "9.99\n",
      "<class 'float'>\n"
     ]
    }
   ],
   "source": [
    "# ANS8\n",
    "# the datatype of 9.99 is float\n",
    "price = 9.99\n",
    "print(price)\n",
    "print(type(price))"
   ]
  },
  {
   "cell_type": "markdown",
   "id": "e611e5f1-4044-4a4f-87b1-81cb9114005e",
   "metadata": {},
   "source": [
    "Q9. Create a variable named name and assign your full name to it as a string. How would you print the\n",
    "value of this variable?"
   ]
  },
  {
   "cell_type": "code",
   "execution_count": 18,
   "id": "dfbc9d0d-4372-415d-85b9-1c9881e39fff",
   "metadata": {},
   "outputs": [
    {
     "name": "stdout",
     "output_type": "stream",
     "text": [
      "abhishek singh senger\n"
     ]
    }
   ],
   "source": [
    "name = \"abhishek singh senger\"\n",
    "print(name)"
   ]
  },
  {
   "cell_type": "markdown",
   "id": "02e87ccf-effd-44a8-9b4e-dfc3525142d1",
   "metadata": {},
   "source": [
    "Q10. Given the string \"Hello, World!\", extract the substring \"World\"."
   ]
  },
  {
   "cell_type": "code",
   "execution_count": 21,
   "id": "df134657-6998-4318-95ea-a5bd3ce4f11f",
   "metadata": {},
   "outputs": [
    {
     "name": "stdout",
     "output_type": "stream",
     "text": [
      "World\n"
     ]
    }
   ],
   "source": [
    "a = \"Hello, World!\"\n",
    "print(a[7:12])"
   ]
  },
  {
   "cell_type": "markdown",
   "id": "2ea91bae-0216-4105-8e9d-d3e7aa235a91",
   "metadata": {},
   "source": [
    "Q11. Create a variable named \"is_student\" and assign it a boolean value indicating whether you are\n",
    "currently a student or not."
   ]
  },
  {
   "cell_type": "code",
   "execution_count": null,
   "id": "170de1d7-5e95-43fc-aed2-df0f340b2806",
   "metadata": {},
   "outputs": [],
   "source": [
    "is_student = True # currently student \n",
    "is_student = false # currently not a student\n"
   ]
  }
 ],
 "metadata": {
  "kernelspec": {
   "display_name": "Python 3 (ipykernel)",
   "language": "python",
   "name": "python3"
  },
  "language_info": {
   "codemirror_mode": {
    "name": "ipython",
    "version": 3
   },
   "file_extension": ".py",
   "mimetype": "text/x-python",
   "name": "python",
   "nbconvert_exporter": "python",
   "pygments_lexer": "ipython3",
   "version": "3.10.8"
  }
 },
 "nbformat": 4,
 "nbformat_minor": 5
}
